{
 "cells": [
  {
   "cell_type": "markdown",
   "metadata": {},
   "source": [
    "# Generate No Half-Circle Images"
   ]
  },
  {
   "cell_type": "markdown",
   "metadata": {},
   "source": [
    "These images will serve as the label 0 images."
   ]
  },
  {
   "cell_type": "code",
   "execution_count": 3,
   "metadata": {},
   "outputs": [],
   "source": [
    "%load_ext autoreload\n",
    "%autoreload 2"
   ]
  },
  {
   "cell_type": "code",
   "execution_count": 20,
   "metadata": {},
   "outputs": [],
   "source": [
    "import sys\n",
    "import random\n",
    "import requests\n",
    "import cv2\n",
    "from PIL import Image\n",
    "from tqdm.notebook import tqdm\n",
    "\n",
    "sys.path.append('..')\n",
    "\n",
    "from src.data.generate import IMG_SHAPE, generate_half_circle_image, \\\n",
    "    generate_filled_image, generate_noise_image, generate_picsum_image, \\\n",
    "    generate_from_random_crop_pdf"
   ]
  },
  {
   "cell_type": "code",
   "execution_count": 5,
   "metadata": {},
   "outputs": [],
   "source": [
    "DATASET_SYNTHETIC_CONFIG = {\n",
    "    'base_hc': 5000,\n",
    "    'pdfcrop_hc': 5000,\n",
    "    'noise': 250,\n",
    "    'filled': 250,\n",
    "    'picsum': 1250,\n",
    "    'pdfcrop': 2500\n",
    "}"
   ]
  },
  {
   "cell_type": "code",
   "execution_count": 6,
   "metadata": {},
   "outputs": [
    {
     "data": {
      "image/jpeg": "[encoded data removed]",
      "image/png": "[encoded data removed]",
      "text/plain": [
       "<PIL.Image.Image image mode=L size=159x151>"
      ]
     },
     "execution_count": 6,
     "metadata": {},
     "output_type": "execute_result"
    }
   ],
   "source": [
    "delta = 0.3\n",
    "height, width = IMG_SHAPE\n",
    "height = random.randint(int(height * (1 - delta)), int(height * (1 + delta)))\n",
    "width = random.randint(int(width * (1 - delta)), int(width * (1 + delta)))\n",
    "img = generate_half_circle_image(height=height, width=width)\n",
    "Image.fromarray(img)"
   ]
  },
  {
   "cell_type": "code",
   "execution_count": 7,
   "metadata": {},
   "outputs": [],
   "source": [
    "is_generate_images_enabled = False\n",
    "if is_generate_images_enabled:\n",
    "    for i in tqdm(range(DATASET_SYNTHETIC_CONFIG['halfcircle'])):\n",
    "        # generate random half circle images of different dimensions\n",
    "        # we want to randomize the dimension of the image too\n",
    "        delta = 0.3\n",
    "        height, width = IMG_SHAPE\n",
    "        height = random.randint(int(height * (1 - delta)), int(height * (1 + delta)))\n",
    "        width = random.randint(int(width * (1 - delta)), int(width * (1 + delta)))\n",
    "        img = generate_half_circle_image(height=height, width=width)\n",
    "        Image.fromarray(img).save(f'../data/hc/base/halfcircle_{i}.png')"
   ]
  },
  {
   "cell_type": "code",
   "execution_count": 8,
   "metadata": {},
   "outputs": [],
   "source": [
    "is_generate_images_enabled = False\n",
    "if is_generate_images_enabled:\n",
    "    for i in tqdm(range(DATASET_SYNTHETIC_CONFIG['filled'])):\n",
    "        fill_value = random.randint(0, 255)\n",
    "        img = generate_filled_image(height=IMG_SHAPE[0], width=IMG_SHAPE[1], fill_value=fill_value)\n",
    "        Image.fromarray(img).save(f'../data/other/pure_fill/pure_fill_{i}.png')"
   ]
  },
  {
   "cell_type": "code",
   "execution_count": 9,
   "metadata": {},
   "outputs": [],
   "source": [
    "is_generate_images_enabled = False\n",
    "if is_generate_images_enabled:\n",
    "    for i in tqdm(range(DATASET_SYNTHETIC_CONFIG['noise'])):\n",
    "        img = generate_noise_image(height=IMG_SHAPE[0], width=IMG_SHAPE[1])\n",
    "        Image.fromarray(img).save(f'../data/other/pure_noise/pure_noise_{i}.png')"
   ]
  },
  {
   "cell_type": "code",
   "execution_count": 10,
   "metadata": {},
   "outputs": [],
   "source": [
    "is_generate_images_enabled = False\n",
    "if is_generate_images_enabled:\n",
    "    for i in tqdm(range(DATASET_SYNTHETIC_CONFIG['picsum'])):\n",
    "        height = random.randint(64, 256)\n",
    "        width = random.randint(64, 256)\n",
    "        generate_picsum_image(\n",
    "            height=height, \n",
    "            width=width,\n",
    "            save_filepath=f'../data/other/picsum/picsum_{i}.png'\n",
    "        )"
   ]
  },
  {
   "cell_type": "code",
   "execution_count": 126,
   "metadata": {},
   "outputs": [
    {
     "name": "stdout",
     "output_type": "stream",
     "text": [
      "(247, 254)\n",
      "True\n"
     ]
    },
    {
     "data": {
      "image/jpeg": "[encoded data removed]",
      "image/png": "[encoded data removed]",
      "text/plain": [
       "<PIL.Image.Image image mode=L size=254x247>"
      ]
     },
     "execution_count": 126,
     "metadata": {},
     "output_type": "execute_result"
    }
   ],
   "source": [
    "filepath = \"/Users/alexandrepoupeau/Documents/work/code/perso/aitt/data/raw/el_origen/input/LOTE 12.pdf\"\n",
    "img = generate_from_random_crop_pdf(\n",
    "    filepath_or_stream=filepath,\n",
    "    page_nb=0,\n",
    "    crop_width_pct=0.02,\n",
    "    crop_height_pct=0.015\n",
    ")\n",
    "img = cv2.cvtColor(img, cv2.COLOR_RGB2GRAY)\n",
    "print(img.shape)\n",
    "thresh = 128\n",
    "pct_black_pixels = 0.1\n",
    "n_black_pixels = int((img < thresh).sum())\n",
    "print(n_black_pixels > img.shape[0] * img.shape[1] * pct_black_pixels)\n",
    "Image.fromarray(img)"
   ]
  },
  {
   "cell_type": "code",
   "execution_count": null,
   "metadata": {},
   "outputs": [],
   "source": [
    "is_generate_images_enabled = False\n",
    "if is_generate_images_enabled:\n",
    "    for i in tqdm(range(DATASET_SYNTHETIC_CONFIG['pdfcrop'])):\n",
    "        img = gene(height=IMG_SHAPE[0], width=IMG_SHAPE[1])\n",
    "        Image.fromarray(img).save(f'../data/other/pure_noise/pure_noise_{i}.png')"
   ]
  }
 ],
 "metadata": {
  "kernelspec": {
   "display_name": "aitt-symb-venv",
   "language": "python",
   "name": "python3"
  },
  "language_info": {
   "codemirror_mode": {
    "name": "ipython",
    "version": 3
   },
   "file_extension": ".py",
   "mimetype": "text/x-python",
   "name": "python",
   "nbconvert_exporter": "python",
   "pygments_lexer": "ipython3",
   "version": "3.11.10"
  }
 },
 "nbformat": 4,
 "nbformat_minor": 2
}
