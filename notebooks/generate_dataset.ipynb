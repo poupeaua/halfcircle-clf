{
 "cells": [
  {
   "cell_type": "markdown",
   "metadata": {},
   "source": [
    "# Generate No Half-Circle Images"
   ]
  },
  {
   "cell_type": "markdown",
   "metadata": {},
   "source": [
    "These images will serve as the label 0 images."
   ]
  },
  {
   "cell_type": "code",
   "execution_count": 83,
   "metadata": {},
   "outputs": [
    {
     "name": "stdout",
     "output_type": "stream",
     "text": [
      "The autoreload extension is already loaded. To reload it, use:\n",
      "  %reload_ext autoreload\n"
     ]
    }
   ],
   "source": [
    "%load_ext autoreload\n",
    "%autoreload 2"
   ]
  },
  {
   "cell_type": "code",
   "execution_count": 84,
   "metadata": {},
   "outputs": [],
   "source": [
    "import sys\n",
    "import random\n",
    "import requests\n",
    "import cv2\n",
    "from PIL import Image\n",
    "from tqdm.notebook import tqdm\n",
    "\n",
    "sys.path.append('..')\n",
    "\n",
    "from src.data.generate import IMG_SHAPE, generate_half_circle_image, \\\n",
    "    generate_filled_image, generate_noise_image, generate_picsum_image, \\\n",
    "    generate_from_random_crop_pdf"
   ]
  },
  {
   "cell_type": "code",
   "execution_count": 198,
   "metadata": {},
   "outputs": [],
   "source": [
    "DATASET_SYNTHETIC_CONFIG = {\n",
    "    'base_hc': 2000,\n",
    "    'pdfcrop_hc': 5000,\n",
    "    'noise': 250,\n",
    "    'filled': 250,\n",
    "    'picsum': 1250,\n",
    "    'pdfcrop': 5000\n",
    "}"
   ]
  },
  {
   "cell_type": "code",
   "execution_count": 191,
   "metadata": {},
   "outputs": [
    {
     "data": {
      "image/jpeg": "[encoded data removed]",
      "image/png": "[encoded data removed]",
      "text/plain": [
       "<PIL.Image.Image image mode=L size=106x155>"
      ]
     },
     "execution_count": 191,
     "metadata": {},
     "output_type": "execute_result"
    }
   ],
   "source": [
    "delta = 0.3\n",
    "height, width = IMG_SHAPE\n",
    "height = random.randint(int(height * (1 - delta)), int(height * (1 + delta)))\n",
    "width = random.randint(int(width * (1 - delta)), int(width * (1 + delta)))\n",
    "img = generate_half_circle_image(height=height, width=width)\n",
    "Image.fromarray(img)"
   ]
  },
  {
   "cell_type": "code",
   "execution_count": null,
   "metadata": {},
   "outputs": [
    {
     "data": {
      "application/vnd.jupyter.widget-view+json": {
       "model_id": "f382254e5ea44dabacf7818681e431e7",
       "version_major": 2,
       "version_minor": 0
      },
      "text/plain": [
       "  0%|          | 0/2000 [00:00<?, ?it/s]"
      ]
     },
     "metadata": {},
     "output_type": "display_data"
    }
   ],
   "source": [
    "is_generate_images_enabled = 0\n",
    "if is_generate_images_enabled:\n",
    "    for i in tqdm(range(DATASET_SYNTHETIC_CONFIG['base_hc'])):\n",
    "        # generate random half circle images of different dimensions\n",
    "        # we want to randomize the dimension of the image too\n",
    "        delta = 0.3\n",
    "        height, width = IMG_SHAPE\n",
    "        height = random.randint(int(height * (1 - delta)), int(height * (1 + delta)))\n",
    "        width = random.randint(int(width * (1 - delta)), int(width * (1 + delta)))\n",
    "        img = generate_half_circle_image(height=height, width=width)\n",
    "        Image.fromarray(img).save(f'../data/hc/base/halfcircle_{i}.png')"
   ]
  },
  {
   "cell_type": "code",
   "execution_count": null,
   "metadata": {},
   "outputs": [
    {
     "data": {
      "application/vnd.jupyter.widget-view+json": {
       "model_id": "17146cd1d1af476fae5ecfd27b48b184",
       "version_major": 2,
       "version_minor": 0
      },
      "text/plain": [
       "  0%|          | 0/250 [00:00<?, ?it/s]"
      ]
     },
     "metadata": {},
     "output_type": "display_data"
    }
   ],
   "source": [
    "is_generate_images_enabled = 0\n",
    "if is_generate_images_enabled:\n",
    "    for i in tqdm(range(DATASET_SYNTHETIC_CONFIG['filled'])):\n",
    "        fill_value = random.randint(0, 255)\n",
    "        img = generate_filled_image(height=IMG_SHAPE[0], width=IMG_SHAPE[1], fill_value=fill_value)\n",
    "        Image.fromarray(img).save(f'../data/other/pure_fill/pure_fill_{i}.png')"
   ]
  },
  {
   "cell_type": "code",
   "execution_count": null,
   "metadata": {},
   "outputs": [
    {
     "data": {
      "application/vnd.jupyter.widget-view+json": {
       "model_id": "5388ae0f79b14a0499c76deaabccbb65",
       "version_major": 2,
       "version_minor": 0
      },
      "text/plain": [
       "  0%|          | 0/250 [00:00<?, ?it/s]"
      ]
     },
     "metadata": {},
     "output_type": "display_data"
    }
   ],
   "source": [
    "is_generate_images_enabled = 0\n",
    "if is_generate_images_enabled:\n",
    "    for i in tqdm(range(DATASET_SYNTHETIC_CONFIG['noise'])):\n",
    "        img = generate_noise_image(height=IMG_SHAPE[0], width=IMG_SHAPE[1])\n",
    "        Image.fromarray(img).save(f'../data/other/pure_noise/pure_noise_{i}.png')"
   ]
  },
  {
   "cell_type": "code",
   "execution_count": null,
   "metadata": {},
   "outputs": [],
   "source": [
    "is_generate_images_enabled = 0\n",
    "if is_generate_images_enabled:\n",
    "    for i in tqdm(range(DATASET_SYNTHETIC_CONFIG['picsum'])):\n",
    "        height = random.randint(64, 256)\n",
    "        width = random.randint(64, 256)\n",
    "        generate_picsum_image(\n",
    "            height=height, \n",
    "            width=width,\n",
    "            save_filepath=f'../data/other/picsum/picsum_{i}.png'\n",
    "        )"
   ]
  },
  {
   "cell_type": "code",
   "execution_count": 202,
   "metadata": {},
   "outputs": [
    {
     "data": {
      "application/vnd.jupyter.widget-view+json": {
       "model_id": "02590c8e8fc443179861535da238bb49",
       "version_major": 2,
       "version_minor": 0
      },
      "text/plain": [
       "  0%|          | 0/5000 [00:00<?, ?it/s]"
      ]
     },
     "metadata": {},
     "output_type": "display_data"
    }
   ],
   "source": [
    "base_filepath = \"/Users/alexandrepoupeau/Documents/work/code/perso/aitt/data/raw/el_origen/input/LOTE {}.pdf\"\n",
    "\n",
    "is_generate_images_enabled = True\n",
    "if is_generate_images_enabled:\n",
    "    n_images = DATASET_SYNTHETIC_CONFIG['pdfcrop']\n",
    "    for i in tqdm(range(n_images)):\n",
    "        is_image_valid = False\n",
    "        while not is_image_valid:\n",
    "            _id = random.randint(1, 90)\n",
    "            img = generate_from_random_crop_pdf(\n",
    "                filepath_or_stream=base_filepath.format(_id),\n",
    "                page_nb=0,\n",
    "                crop_width_pct=0.02,\n",
    "                crop_height_pct=0.015\n",
    "            )\n",
    "            img = cv2.cvtColor(img, cv2.COLOR_RGB2GRAY)\n",
    "            # print(img.shape)\n",
    "            thresh = 128\n",
    "            pct_black_pixels = 0.1\n",
    "            n_black_pixels = int((img < thresh).sum())\n",
    "            n_pixels = img.shape[0] * img.shape[1]\n",
    "            if n_black_pixels > n_pixels * pct_black_pixels:\n",
    "                is_image_valid = True\n",
    "    \n",
    "        img = Image.fromarray(img)\n",
    "        img.save(f'../data/other/pdfcrop/pdfcrop_{i}.png')"
   ]
  },
  {
   "cell_type": "code",
   "execution_count": 194,
   "metadata": {},
   "outputs": [
    {
     "data": {
      "application/vnd.jupyter.widget-view+json": {
       "model_id": "a9ff7a3b3dfa4916928d3f6a2146d1a3",
       "version_major": 2,
       "version_minor": 0
      },
      "text/plain": [
       "  0%|          | 0/5000 [00:00<?, ?it/s]"
      ]
     },
     "metadata": {},
     "output_type": "display_data"
    }
   ],
   "source": [
    "base_filepath = \"/Users/alexandrepoupeau/Documents/work/code/perso/aitt/data/raw/el_origen/input/LOTE {}.pdf\"\n",
    "\n",
    "is_generate_images_enabled = True\n",
    "if is_generate_images_enabled:\n",
    "    n_images = DATASET_SYNTHETIC_CONFIG['pdfcrop_hc']\n",
    "    for i in tqdm(range(n_images)):\n",
    "        is_image_valid = False\n",
    "        while not is_image_valid:\n",
    "            _id = random.randint(1, 90)\n",
    "            img = generate_from_random_crop_pdf(\n",
    "                filepath_or_stream=base_filepath.format(_id),\n",
    "                page_nb=0,\n",
    "                crop_width_pct=0.02,\n",
    "                crop_height_pct=0.015\n",
    "            )\n",
    "            img = cv2.cvtColor(img, cv2.COLOR_RGB2GRAY)\n",
    "            # print(img.shape)\n",
    "            thresh = 128\n",
    "            pct_black_pixels = 0.1\n",
    "            n_black_pixels = int((img < thresh).sum())\n",
    "            n_pixels = img.shape[0] * img.shape[1]\n",
    "            if n_black_pixels > n_pixels * pct_black_pixels:\n",
    "                is_image_valid = True\n",
    "\n",
    "        img = generate_half_circle_image(\n",
    "            image=img, \n",
    "            min_thickness=15,\n",
    "            max_thickness=25,\n",
    "            added_thickness_cleaning_image=150\n",
    "        )\n",
    "    \n",
    "        img = Image.fromarray(img)\n",
    "        img.save(f'../data/hc/pdfcrop/pdfcrop_{i}.png')"
   ]
  }
 ],
 "metadata": {
  "kernelspec": {
   "display_name": "aitt-symb-venv",
   "language": "python",
   "name": "python3"
  },
  "language_info": {
   "codemirror_mode": {
    "name": "ipython",
    "version": 3
   },
   "file_extension": ".py",
   "mimetype": "text/x-python",
   "name": "python",
   "nbconvert_exporter": "python",
   "pygments_lexer": "ipython3",
   "version": "3.11.10"
  }
 },
 "nbformat": 4,
 "nbformat_minor": 2
}
