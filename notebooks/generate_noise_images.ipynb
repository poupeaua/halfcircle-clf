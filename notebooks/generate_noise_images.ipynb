{
 "cells": [
  {
   "cell_type": "code",
   "execution_count": null,
   "metadata": {},
   "outputs": [],
   "source": [
    "%load_ext autoreload\n",
    "%autoreload 2"
   ]
  },
  {
   "cell_type": "code",
   "execution_count": null,
   "metadata": {},
   "outputs": [],
   "source": [
    "import sys\n",
    "import random\n",
    "import requests\n",
    "from PIL import Image\n",
    "from tqdm.notebook import tqdm\n",
    "\n",
    "sys.path.append('..')\n",
    "\n",
    "from src.data.generate import generate_half_circle_image, IMG_SHAPE, \\\n",
    "    generate_filled_image, generate_noise_image, generate_picsum_image"
   ]
  },
  {
   "cell_type": "code",
   "execution_count": null,
   "metadata": {},
   "outputs": [],
   "source": [
    "is_generate_images_enabled = False\n",
    "n_images = 500\n",
    "if is_generate_images_enabled:\n",
    "    for i in tqdm(range(n_images)):\n",
    "        fill_value = random.randint(0, 255)\n",
    "        img = generate_filled_image(height=IMG_SHAPE[0], width=IMG_SHAPE[1], fill_value=fill_value)\n",
    "        Image.fromarray(img).save(f'../data/other/pure_fill/pure_fill_{i}.png')"
   ]
  },
  {
   "cell_type": "code",
   "execution_count": null,
   "metadata": {},
   "outputs": [],
   "source": [
    "is_generate_images_enabled = False\n",
    "n_images = 500\n",
    "if is_generate_images_enabled:\n",
    "    for i in tqdm(range(n_images)):\n",
    "        img = generate_noise_image(height=IMG_SHAPE[0], width=IMG_SHAPE[1])\n",
    "        Image.fromarray(img).save(f'../data/other/pure_noise/pure_noise_{i}.png')"
   ]
  },
  {
   "cell_type": "code",
   "execution_count": null,
   "metadata": {},
   "outputs": [],
   "source": [
    "is_generate_images_enabled = False\n",
    "n_images = 1000\n",
    "if is_generate_images_enabled:\n",
    "    for i in tqdm(range(n_images)):\n",
    "        height = random.randint(64, 256)\n",
    "        width = random.randint(64, 256)\n",
    "        generate_picsum_image(height=height, width=width, save_filepath=f'../data/other/picsum/picsum_{i}.png')"
   ]
  },
  {
   "cell_type": "code",
   "execution_count": null,
   "metadata": {},
   "outputs": [],
   "source": []
  }
 ],
 "metadata": {
  "kernelspec": {
   "display_name": "halfcircle-venv",
   "language": "python",
   "name": "python3"
  },
  "language_info": {
   "codemirror_mode": {
    "name": "ipython",
    "version": 3
   },
   "file_extension": ".py",
   "mimetype": "text/x-python",
   "name": "python",
   "nbconvert_exporter": "python",
   "pygments_lexer": "ipython3",
   "version": "3.11.10"
  }
 },
 "nbformat": 4,
 "nbformat_minor": 2
}
